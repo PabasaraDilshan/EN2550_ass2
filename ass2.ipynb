{
 "cells": [
  {
   "cell_type": "markdown",
   "metadata": {},
   "source": [
    "## Q1\n"
   ]
  },
  {
   "cell_type": "code",
   "execution_count": 8,
   "metadata": {},
   "outputs": [],
   "source": [
    "\n",
    "import numpy as np\n",
    "from scipy.optimize import minimize\n",
    "from scipy import linalg\n",
    "import matplotlib.pyplot as plt\n",
    "import cv2 as cv\n",
    "\n",
    "        \n",
    "def get_circle(points1, points2, points3):\n",
    "    temp = points2[0]**2 + points2[1]**2\n",
    "    bc = (points1[0]**2 + points1[1]**2 - temp)/2\n",
    "    cd = (temp - points3[0]**2 - points3[1]**2)/2\n",
    "    det = (points1[0] - points2[0]) * (points2[1] - points3[1]) - (points2[0] - points3[0]) * (points1[1] - points2[1])\n",
    "\n",
    "    if abs(det) < 1.0e-10:\n",
    "        return None\n",
    "    cx = (bc*(points2[1] - points3[1]) - cd*(points1[1] - points2[1]))/ det\n",
    "    cy = ((points1[0] - points2[0]) * cd - (points2[0] - points3[0])*bc)/ det\n",
    "\n",
    "    r = ((cx - points1[0])**2 + (cy - points1[1])**2)**0.5\n",
    "\n",
    "    return cx, cy, r\n",
    "\n",
    "def short_dis(p,centerx,centery,radius):\n",
    "    \n",
    "    return  np.array(abs(((p[:,0]-centerx)**2+(p[:,1]-centery)**2)**0.5-radius))\n",
    "\n",
    "\n"
   ]
  },
  {
   "cell_type": "code",
   "execution_count": null,
   "metadata": {},
   "outputs": [],
   "source": []
  }
 ],
 "metadata": {
  "interpreter": {
   "hash": "97cc609b13305c559618ec78a438abc56230b9381f827f22d070313b9a1f3777"
  },
  "kernelspec": {
   "display_name": "Python 3.10.2 64-bit",
   "language": "python",
   "name": "python3"
  },
  "language_info": {
   "codemirror_mode": {
    "name": "ipython",
    "version": 3
   },
   "file_extension": ".py",
   "mimetype": "text/x-python",
   "name": "python",
   "nbconvert_exporter": "python",
   "pygments_lexer": "ipython3",
   "version": "3.9.10"
  },
  "orig_nbformat": 4
 },
 "nbformat": 4,
 "nbformat_minor": 2
}
